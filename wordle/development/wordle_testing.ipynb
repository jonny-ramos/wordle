{
 "cells": [
  {
   "cell_type": "code",
   "execution_count": 86,
   "metadata": {},
   "outputs": [],
   "source": [
    "import numpy as np\n",
    "import matplotlib.pyplot as plt\n",
    "\n",
    "# words scraped from https://www.bestwordlist.com/5letterwords.htm\n",
    "words = np.load('five_letter_words.npy', allow_pickle=True)\n",
    "\n",
    "# random word to test with\n",
    "def generate_random_word():\n",
    "    rand_word = words[np.random.randint(0, len(words))]\n",
    "    \n",
    "    return rand_word\n",
    "\n",
    "def evaluate_input(target_word, input_word):\n",
    "    let_eval = []\n",
    "    for i in range(len(target_word)):\n",
    "        let =  input_word[i]\n",
    "\n",
    "        if let in target_word:\n",
    "            inputword_l_i = [i for i, l in enumerate(input_word) if l == let]\n",
    "            targetword_l_i = [i for i, l in enumerate(target_word) if l == let]\n",
    "            \n",
    "            # correct number of repeated letters or single letters\n",
    "            if len(inputword_l_i) <= len(targetword_l_i):\n",
    "                if i in targetword_l_i:\n",
    "                    let_eval.append((let, 'green'))\n",
    "                else:\n",
    "                    let_eval.append((let, 'gold'))\n",
    "                    \n",
    "            # incorrectly repeated letters, with some in correct positions\n",
    "            elif len(inputword_l_i) > len(targetword_l_i):\n",
    "                if i in targetword_l_i:\n",
    "                    let_eval.append((let, 'green'))\n",
    "                \n",
    "                elif inputword_l_i.index(i) + 1 <= len(targetword_l_i):\n",
    "                    \n",
    "                    # incorrectly repeated letters, with some in incorrect positions\n",
    "                    if len(set(inputword_l_i).intersection(set(targetword_l_i))) < len(targetword_l_i):\n",
    "                        let_eval.append((let, 'gold'))\n",
    "                        \n",
    "                    # incorrectly repeated letters will be marked grey after correct number of\n",
    "                    # repeated letters are marked green and/or gold.\n",
    "                    else:\n",
    "                        let_eval.append((let, 'grey'))\n",
    "                else:\n",
    "                    let_eval.append((let, 'grey'))\n",
    "        else:\n",
    "            let_eval.append((let, 'grey')) # alliterative color names :-)\n",
    "    return let_eval\n",
    "\n",
    "def used_l(row, evals):\n",
    "    used_l = []\n",
    "    for letter in row:\n",
    "        for l_eval in evals:\n",
    "            for l, c in l_eval:\n",
    "                if letter == l:\n",
    "                    if c == 'grey':\n",
    "                        used_l.append((l, 'white'))\n",
    "                    else:\n",
    "                        used_l.append((l, c))\n",
    "    d_used_l = dict(used_l)\n",
    "    \n",
    "    return d_used_l\n",
    "\n",
    "def plot_eval(let_evals):\n",
    "    # xlim 6, we don't expect any words longer than 5 letters (+1 to center plot)\n",
    "    # ylim 7, we don't expect more than 6 attempts (+1 to center plot)\n",
    "    plt.figure(figsize=(6,7))\n",
    "    f = plt.axis([0,6,0,7])\n",
    "    \n",
    "    for i in range(len(let_evals)):\n",
    "        l_eval = let_evals[i] \n",
    "        \n",
    "        for j in range(len(l_eval)):\n",
    "            l, c = l_eval[j]\n",
    "            plt.text(j+1, i+1, l, fontsize=35, color=c)\n",
    "            \n",
    "    R1 ='QWERTYUIOP'\n",
    "    R1_x = np.arange(1.3,1.3+0.4*len(R1), 0.4)\n",
    "    R1_y = 7\n",
    "    d_R1 = dict(zip(R1, R1_x))\n",
    "\n",
    "    R2 = 'ASDFGHJKL'\n",
    "    R2_x = np.arange(1.5,1.5+0.4*len(R2), 0.4)\n",
    "    R2_y = 7.4\n",
    "    d_R2 = dict(zip(R2, R2_x))\n",
    "\n",
    "    R3 = 'ZXCVBNM'\n",
    "    R3_x = np.arange(1.6, 1.6+0.4*len(R3), 0.4)\n",
    "    R3_y = 7.8\n",
    "    d_R3 = dict(zip(R3, R3_x))\n",
    "\n",
    "    d_R1_used = used_l(R1, let_evals)\n",
    "    for l in d_R1_used.keys():\n",
    "        plt.text(d_R1[l], R1_y, str(l), fontsize=16, c=d_R1_used[l])\n",
    "\n",
    "    d_R2_used = used_l(R2, let_evals)\n",
    "    for l in d_R2_used.keys():\n",
    "        plt.text(d_R2[l], R2_y, str(l), fontsize=16, c=d_R2_used[l])\n",
    "\n",
    "    d_R3_used = used_l(R3, let_evals)\n",
    "    for l in d_R3_used.keys():\n",
    "        plt.text(d_R3[l], R3_y, str(l), fontsize=16, c=d_R3_used[l])\n",
    "\n",
    "    for i in range(len(R1)):\n",
    "        if R1[i] not in d_R1_used.keys():\n",
    "            plt.text(R1_x[i], R1_y, R1[i], fontsize=15)\n",
    "        else:\n",
    "            pass\n",
    "    for i in range(len(R2)):\n",
    "        if R2[i] not in d_R2_used.keys():\n",
    "            plt.text(R2_x[i], R2_y, R2[i], fontsize=15)\n",
    "        else:\n",
    "            pass\n",
    "    for i in range(len(R3)):\n",
    "        if R3[i] not in d_R3_used.keys():\n",
    "            plt.text(R3_x[i], R3_y, R3[i], fontsize=15)\n",
    "        else:\n",
    "            pass\n",
    "\n",
    "\n",
    "    plt.axis('off')\n",
    "    plt.gca().invert_yaxis() # starting from the top\n",
    "\n",
    "    return f"
   ]
  },
  {
   "cell_type": "code",
   "execution_count": 87,
   "metadata": {},
   "outputs": [
    {
     "data": {
      "text/plain": [
       "[0, 6, 0, 7]"
      ]
     },
     "execution_count": 87,
     "metadata": {},
     "output_type": "execute_result"
    },
    {
     "data": {
      "image/png": "[encoded data removed]",
      "text/plain": [
       "<Figure size 432x504 with 1 Axes>"
      ]
     },
     "metadata": {
      "needs_background": "light"
     },
     "output_type": "display_data"
    }
   ],
   "source": [
    "# ok now let's try a hypothetical situation by hand (with fake words to test edge cases)\n",
    "target_word = 'BOOKS'\n",
    "evals = []\n",
    "evals.append(evaluate_input(target_word, 'OXOXO')) # correct repeated letter appears too many times, in one correct position\n",
    "evals.append(evaluate_input(target_word, 'OXXOO')) # correct repeated letter appears too many times, in no correct positions\n",
    "evals.append(evaluate_input(target_word, 'OBOLS')) # correct repeated letter appears in one correct position and one incorrect position\n",
    "evals.append(evaluate_input(target_word, 'SOCKS')) # correct letter appears too many times, in one correct position\n",
    "evals.append(evaluate_input(target_word, 'SSXXX')) # correct letter appears too many times, in no correct positions\n",
    "evals.append(evaluate_input(target_word, 'BOOKS'))\n",
    "plot_eval(evals)"
   ]
  },
  {
   "cell_type": "code",
   "execution_count": 88,
   "metadata": {},
   "outputs": [],
   "source": [
    "target_word = generate_random_word()"
   ]
  },
  {
   "cell_type": "code",
   "execution_count": 89,
   "metadata": {},
   "outputs": [
    {
     "data": {
      "text/plain": [
       "[0, 6, 0, 7]"
      ]
     },
     "execution_count": 89,
     "metadata": {},
     "output_type": "execute_result"
    },
    {
     "data": {
      "image/png": "[encoded data removed]",
      "text/plain": [
       "<Figure size 432x504 with 1 Axes>"
      ]
     },
     "metadata": {
      "needs_background": "light"
     },
     "output_type": "display_data"
    }
   ],
   "source": [
    "evals = []\n",
    "evals.append(evaluate_input(target_word,'SABER'))\n",
    "evals.append(evaluate_input(target_word,'OUIJA'))\n",
    "evals.append(evaluate_input(target_word,'BOOST'))\n",
    "evals.append(evaluate_input(target_word,'SHOCK'))\n",
    "evals.append(evaluate_input(target_word,'PHONS')) \n",
    "evals.append(evaluate_input(target_word,'PHOHS')) # WTF DOES 'PHOHS' MEAN\n",
    "plot_eval(evals)"
   ]
  },
  {
   "cell_type": "code",
   "execution_count": 90,
   "metadata": {
    "scrolled": false
   },
   "outputs": [
    {
     "data": {
      "image/png": "[encoded data removed]",
      "text/plain": [
       "<Figure size 432x576 with 1 Axes>"
      ]
     },
     "metadata": {
      "needs_background": "light"
     },
     "output_type": "display_data"
    }
   ],
   "source": [
    "plt.figure(figsize=(6,8))\n",
    "f = plt.axis([0,6,0,8])\n",
    "\n",
    "for i in range(len(evals)):\n",
    "    l_eval = evals[i] \n",
    "\n",
    "    for j in range(len(l_eval)):\n",
    "        l, c = l_eval[j]\n",
    "        plt.text(j+1, i+1, l, fontsize=35, color=c)\n",
    "\n",
    "R1 ='QWERTYUIOP'\n",
    "R1_x = np.arange(1.3,1.3+0.4*len(R1), 0.4)\n",
    "R1_y = 7\n",
    "d_R1 = dict(zip(R1, R1_x))\n",
    "    \n",
    "R2 = 'ASDFGHJKL'\n",
    "R2_x = np.arange(1.5,1.5+0.4*len(R2), 0.4)\n",
    "R2_y = 7.4\n",
    "d_R2 = dict(zip(R2, R2_x))\n",
    "    \n",
    "R3 = 'ZXCVBNM'\n",
    "R3_x = np.arange(1.6, 1.6+0.4*len(R3), 0.4)\n",
    "R3_y = 7.8\n",
    "d_R3 = dict(zip(R3, R3_x))\n",
    "\n",
    "d_R1_used = used_l(R1, evals)\n",
    "for l in d_R1_used.keys():\n",
    "    plt.text(d_R1[l], R1_y, str(l), fontsize=16, c=d_R1_used[l])\n",
    "    \n",
    "d_R2_used = used_l(R2, evals)\n",
    "for l in d_R2_used.keys():\n",
    "    plt.text(d_R2[l], R2_y, str(l), fontsize=16, c=d_R2_used[l])\n",
    "    \n",
    "d_R3_used = used_l(R3, evals)\n",
    "for l in d_R3_used.keys():\n",
    "    plt.text(d_R3[l], R3_y, str(l), fontsize=16, c=d_R3_used[l])\n",
    "    \n",
    "for i in range(len(R1)):\n",
    "    if R1[i] not in d_R1_used.keys():\n",
    "        plt.text(R1_x[i], R1_y, R1[i], fontsize=15)\n",
    "    else:\n",
    "        pass\n",
    "for i in range(len(R2)):\n",
    "    if R2[i] not in d_R2_used.keys():\n",
    "        plt.text(R2_x[i], R2_y, R2[i], fontsize=15)\n",
    "    else:\n",
    "        pass\n",
    "for i in range(len(R3)):\n",
    "    if R3[i] not in d_R3_used.keys():\n",
    "        plt.text(R3_x[i], R3_y, R3[i], fontsize=15)\n",
    "    else:\n",
    "        pass\n",
    "\n",
    "\n",
    "plt.axis('off')\n",
    "plt.gca().invert_yaxis() # starting from the top"
   ]
  },
  {
   "cell_type": "code",
   "execution_count": 91,
   "metadata": {},
   "outputs": [],
   "source": [
    "def used_l(row, evals):\n",
    "    used_l = []\n",
    "    for letter in R2:\n",
    "        for l_eval in evals:\n",
    "            for l, c in l_eval:\n",
    "                if letter == l:\n",
    "                    if c == 'grey':\n",
    "                        used_l.append((l, 'white'))\n",
    "                    else:\n",
    "                        used_l.append((l, c))\n",
    "    d_used_l = dict(used_l)\n",
    "    \n",
    "    return d_used_l\n",
    "\n",
    "d_R2_used = used_l(R2, evals)"
   ]
  },
  {
   "cell_type": "code",
   "execution_count": 92,
   "metadata": {},
   "outputs": [],
   "source": [
    "p_words = np.load('five_letter_words.npy')\n",
    "np.save('p_words.npy', p_words)\n",
    "\n",
    "def suggestion(evals):\n",
    "    p_words = np.load('p_words.npy')\n",
    "    for l_eval in evals:\n",
    "        for i, (l, c) in enumerate(l_eval):\n",
    "            if c == 'grey':\n",
    "                p_words = [word for word in p_words if l not in word]\n",
    "            if c == 'gold':\n",
    "                p_words = [word for word in p_words if l in word]\n",
    "                p_words = [word for word in p_words if (i, l) not in [(ii, ll) for ii, ll in enumerate(word)]]"
   ]
  },
  {
   "cell_type": "code",
   "execution_count": 118,
   "metadata": {
    "scrolled": false
   },
   "outputs": [
    {
     "name": "stdout",
     "output_type": "stream",
     "text": [
      "12478\n"
     ]
    },
    {
     "data": {
      "text/plain": [
       "[]"
      ]
     },
     "execution_count": 118,
     "metadata": {},
     "output_type": "execute_result"
    }
   ],
   "source": [
    "p_words = np.load('p_words.npy')\n",
    "print(len(p_words))\n",
    "for l_eval in evals:\n",
    "    for i, (l, c) in enumerate(l_eval):\n",
    "     \n",
    "        if c == 'grey':\n",
    "            p_words = [word for word in p_words if l not in word]\n",
    "            \n",
    "        if c == 'gold':\n",
    "            # two tests: check if letter is in word\n",
    "            p_words = [word for word in p_words if l in word]\n",
    "            \n",
    "            # check if letter is in correct position\n",
    "            p_words = [word for word in p_words if (i, l) not in [(j, let) for j, let in enumerate(word)]]\n",
    "            \n",
    "        if c == 'green':\n",
    "            # two tests: check if letter is in word\n",
    "            p_words = [word for word in p_words if l in word]\n",
    "            \n",
    "            # check if letter is in correct position\n",
    "            p_words = [word for word in p_words if (i, l) in [(j, let) for j, let in enumerate(word)]]\n",
    "\n",
    "p_words"
   ]
  },
  {
   "cell_type": "code",
   "execution_count": 78,
   "metadata": {},
   "outputs": [
    {
     "data": {
      "text/plain": [
       "'AAHED'"
      ]
     },
     "execution_count": 78,
     "metadata": {},
     "output_type": "execute_result"
    }
   ],
   "source": [
    "test_words = ['ROUTE', 'BOOKS', 'SORRY']\n",
    "(0,'R') in [[(i, l) for i, l in enumerate(word)] for word in p_words]\n",
    "word"
   ]
  },
  {
   "cell_type": "code",
   "execution_count": 63,
   "metadata": {
    "scrolled": false
   },
   "outputs": [],
   "source": [
    "p_words = [word[k] for k in range(len(word_i)) if (l, c) in word_i[k]]"
   ]
  },
  {
   "cell_type": "code",
   "execution_count": 65,
   "metadata": {},
   "outputs": [
    {
     "data": {
      "text/plain": [
       "('S', 'grey')"
      ]
     },
     "execution_count": 65,
     "metadata": {},
     "output_type": "execute_result"
    }
   ],
   "source": [
    "(l, c)"
   ]
  },
  {
   "cell_type": "code",
   "execution_count": null,
   "metadata": {},
   "outputs": [],
   "source": []
  }
 ],
 "metadata": {
  "kernelspec": {
   "display_name": "Python 3",
   "language": "python",
   "name": "python3"
  },
  "language_info": {
   "codemirror_mode": {
    "name": "ipython",
    "version": 3
   },
   "file_extension": ".py",
   "mimetype": "text/x-python",
   "name": "python",
   "nbconvert_exporter": "python",
   "pygments_lexer": "ipython3",
   "version": "3.7.4"
  }
 },
 "nbformat": 4,
 "nbformat_minor": 2
}
